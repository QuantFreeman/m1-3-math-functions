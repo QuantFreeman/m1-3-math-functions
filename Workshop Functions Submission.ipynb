{
 "cells": [
  {
   "cell_type": "markdown",
   "metadata": {},
   "source": [
    "Sasha Morrison, workshop submission for 1.3"
   ]
  },
  {
   "cell_type": "markdown",
   "metadata": {
    "colab_type": "text",
    "id": "aX9oCHrXqhIj"
   },
   "source": [
    "#1. Reflexive and symmetric, but not transitive\n",
    "{(a,a),(a,b),(b,a),(b,b),(b,c),(c,b),(c,c)}\n",
    "Real World: Synonyms\n",
    "#2. Reflexive, but neither symmetric nor transitive\n",
    "{(a,a),(a,b),(b,b),(c,b),(c,c)}\n",
    "#3. Symmetric, but neither reflexive nor transitive \n",
    "{(a,b),(b,a),(b,c),(c,b)}\n",
    "#4. Transitive, but neither reflexive nor symmetric  \n",
    "{(a,b),(b,c),(c,a)}# 1. Math Drills\n",
    "\n",
    "Give an example of a binary relation on a set which is\n",
    "\n",
    "1. Reflexive and symmetric, but not transitive  \n",
    "2. Reflexive, but neither symmetric nor transitive  \n",
    "3. Symmetric, but neither reflexive nor transitive  \n",
    "4. Transitive, but neither reflexive nor symmetric  \n",
    "\n",
    "Recall the definitions from the lectures if you need to!"
   ]
  },
  {
   "cell_type": "code",
   "execution_count": null,
   "metadata": {},
   "outputs": [],
   "source": [
    "#1. Reflexive and symmetric, but not transitive\n",
    "{(a,a),(a,b),(b,a),(b,b),(b,c),(c,b),(c,c)}\n",
    "Real World: Synonyms\n",
    "#2. Reflexive, but neither symmetric nor transitive\n",
    "{(a,a),(a,b),(b,b),(c,b),(c,c)}\n",
    "#3. Symmetric, but neither reflexive nor transitive \n",
    "{(a,b),(b,a),(b,c),(c,b)}\n",
    "#4. Transitive, but neither reflexive nor symmetric  \n",
    "{(a,b),(b,c),(c,a)}"
   ]
  },
  {
   "cell_type": "markdown",
   "metadata": {},
   "source": [
    "# Exercise 2: A bunch of Math!\n",
    "\n",
    "## Polynomial\n",
    "\n",
    "Consider the polynomial\n",
    "\n",
    "$$\n",
    "p(x)\n",
    "= a_0 + a_1 x + a_2 x^2 + \\cdots a_n x^n\n",
    "= \\sum_{i=0}^n a_i x^i \\tag{1}\n",
    "$$\n",
    "\n",
    "Write a function `p` such that `p(x, coeff)` that computes the value in given a point `x` and a list of coefficients `coeff`.\n",
    "\n",
    "```\n",
    "p(5, [1, 1]) = 1 + 5 = 6\n",
    "p(5, [2, 1, 1]) = 2 + 5 + 25 = 32\n",
    "```"
   ]
  },
  {
   "cell_type": "code",
   "execution_count": 1,
   "metadata": {},
   "outputs": [
    {
     "data": {
      "text/plain": [
       "(6, 32)"
      ]
     },
     "execution_count": 1,
     "metadata": {},
     "output_type": "execute_result"
    }
   ],
   "source": [
    "def p(x, coeff):\n",
    "    n = len(coeff)\n",
    "    out = 0\n",
    "    \n",
    "    for e in range(n):\n",
    "        out += coeff[e]*(x**e)\n",
    "        \n",
    "    return out\n",
    "\n",
    "p(5, [1, 1]), p(5, [2, 1, 1])"
   ]
  },
  {
   "cell_type": "markdown",
   "metadata": {},
   "source": [
    "# Variance\n",
    "\n",
    "Define a function named `var` that takes a list of numbers and computes the variance. The variance is:\n",
    "\n",
    "$$variance(x) = \\frac{∑_i^N(x_i − average(x))^2}{N-1}$$\n",
    "\n",
    "\n",
    "Don't cheat and use `numpy.var`! You should only use that function to test that your function is correct"
   ]
  },
  {
   "cell_type": "code",
   "execution_count": 2,
   "metadata": {},
   "outputs": [
    {
     "data": {
      "text/plain": [
       "(True, 3663.25, 3663.25)"
      ]
     },
     "execution_count": 2,
     "metadata": {},
     "output_type": "execute_result"
    }
   ],
   "source": [
    "import numpy as np\n",
    "\n",
    "def var(x):\n",
    "    out = 0\n",
    "    \n",
    "    for e in x:\n",
    "        out += (e - (sum(x)/len(x)))**2 \n",
    "    out = out / len(x)\n",
    "    \n",
    "    return out\n",
    "    #note: built such that == np.var()\n",
    "    #as such: does not divide by N-1 instead div by N or Len(x)\n",
    "\n",
    "test = [1, 20, 50, 4, 100, -100]\n",
    "np.var(test) == var(test), var(test), np.var(test)"
   ]
  },
  {
   "cell_type": "markdown",
   "metadata": {},
   "source": [
    "# RMSE\n",
    "\n",
    "Calculate the root mean squared error (RMSE) of a machine learning model's output. The function takes in two lists: one with actual values, one with predictions. The formula for RMSE is:\n",
    "\n",
    "$$RMSE(y_1, y_2) = \\sqrt{\\dfrac{1}{N} \\sum_{i=1}^N (y_{1i} - y_{2i})^2}$$\n",
    "\n",
    "```\n",
    "    rmse([1, 2], [1, 2]) = 0\n",
    "    rmse([1, 2, 3], [3, 2, 1]) = 1.63\n",
    "```\n",
    "\n",
    "You can use \n",
    "\n",
    "```\n",
    "sklearn.metrics.mean_squared_error(y_actual, y_predicted, squared=False)\n",
    "```\n",
    "\n",
    "To test your function"
   ]
  },
  {
   "cell_type": "code",
   "execution_count": 3,
   "metadata": {},
   "outputs": [
    {
     "name": "stdout",
     "output_type": "stream",
     "text": [
      "0.0 1.632993161855452\n"
     ]
    },
    {
     "data": {
      "text/plain": [
       "True"
      ]
     },
     "execution_count": 3,
     "metadata": {},
     "output_type": "execute_result"
    }
   ],
   "source": [
    "import sklearn.metrics\n",
    "\n",
    "def rmse(act, chk):\n",
    "    n = 0\n",
    "    tot = 0\n",
    "    \n",
    "    for i in act:\n",
    "        tot += ((i - chk[n])**2)\n",
    "        n += 1\n",
    "        \n",
    "    return np.sqrt((tot / len(act)))\n",
    "\n",
    "print(rmse([1, 2], [1, 2]), rmse([1, 2, 3], [3, 2, 1]))\n",
    "sklearn.metrics.mean_squared_error([1, 2, 3], [3, 2, 1], squared=False) == rmse([1, 2, 3], [3, 2, 1])"
   ]
  },
  {
   "cell_type": "markdown",
   "metadata": {},
   "source": [
    "# Jaccard Similarity\n",
    "\n",
    "The Jaccard similarity between two sets is the size of intersection divided by the size of union. Write a function that computes it:\n",
    "\n",
    "$$jaccard(A, B) = \\dfrac{|A \\cap B|}{|A \\cup B|}$$\n",
    "\n",
    "\n",
    "```\n",
    "jaccard({'a', 'b', 'c'}, {'a', 'd'}) = 1 / 4\n",
    "```\n",
    "\n"
   ]
  },
  {
   "cell_type": "code",
   "execution_count": 4,
   "metadata": {},
   "outputs": [
    {
     "data": {
      "text/plain": [
       "0.25"
      ]
     },
     "execution_count": 4,
     "metadata": {},
     "output_type": "execute_result"
    }
   ],
   "source": [
    "def jaccard(a, b):\n",
    "    return len(a.intersection(b)) / len(a.union(b))\n",
    "\n",
    "jaccard({'a', 'b', 'c'}, {'a', 'd'})"
   ]
  },
  {
   "cell_type": "markdown",
   "metadata": {},
   "source": [
    "# Exercise 3\n",
    "\n",
    "First, write a function that returns one realization of the following random device\n",
    "\n",
    "1. Flip an unbiased coin 10 times.  \n",
    "1. If a head occurs `k` or more times consecutively within this sequence at least once, pay one dollar.  \n",
    "1. If not, pay nothing.  \n",
    "\n",
    "\n",
    "Second, write another function that does the same task except that the second rule of the above random device becomes\n",
    "\n",
    "- If a head occurs `k` or more times within this sequence, pay one dollar.  \n",
    "\n",
    "\n",
    "Use no import besides `from numpy.random import uniform`."
   ]
  },
  {
   "cell_type": "code",
   "execution_count": 5,
   "metadata": {},
   "outputs": [
    {
     "data": {
      "text/plain": [
       "(1, ['t', 't', 't', 'h', 't', 'h', 'h', 'h', 'h', 'h'])"
      ]
     },
     "execution_count": 5,
     "metadata": {},
     "output_type": "execute_result"
    }
   ],
   "source": [
    "import numpy as np\n",
    "\n",
    "def coin1(k):\n",
    "    seq = 0\n",
    "    owe = 0\n",
    "    dbug = []\n",
    "   \n",
    "    for i in range(10):\n",
    "        uniform = np.random.uniform()\n",
    "        if uniform < 0.5:   \n",
    "            seq += 1\n",
    "            dbug.append('h')\n",
    "        else:\n",
    "            seq = 0\n",
    "            dbug.append('t')\n",
    "            \n",
    "        if seq == k:\n",
    "            owe += 1          \n",
    "\n",
    "    return owe, dbug\n",
    "coin1(2)"
   ]
  },
  {
   "cell_type": "code",
   "execution_count": 6,
   "metadata": {},
   "outputs": [
    {
     "data": {
      "text/plain": [
       "(True,\n",
       " 8,\n",
       " ['Heads',\n",
       "  'Heads',\n",
       "  'Heads',\n",
       "  'Heads',\n",
       "  'Heads',\n",
       "  'Heads',\n",
       "  'Tails',\n",
       "  'Heads',\n",
       "  'Tails',\n",
       "  'Heads'])"
      ]
     },
     "execution_count": 6,
     "metadata": {},
     "output_type": "execute_result"
    }
   ],
   "source": [
    "def coin2(k):\n",
    "    \"\"\"\n",
    "    counts instances of heads,\n",
    "    returns bool for total heads >= k\n",
    "    \"\"\"\n",
    "    tot = 0\n",
    "    res = []\n",
    "    \n",
    "    for i in range(10):\n",
    "        if np.random.uniform(0, 1) >= 0.5:\n",
    "            #result is heads\n",
    "            tot += 1\n",
    "            res.append('Heads')\n",
    "            \n",
    "        #result is tails   \n",
    "        else:\n",
    "            res.append('Tails')\n",
    "    return tot >= k, tot, res\n",
    "            \n",
    "            \n",
    "coin2(4)"
   ]
  },
  {
   "cell_type": "markdown",
   "metadata": {},
   "source": [
    "# Exercise 4: Logistic Map fixed point\n",
    "\n",
    "The **Logistic Map** is a famous function from Chaos Theory which is defined as:\n",
    "\n",
    "$$x_{t+1} = r \\cdot x_t(1−x_t)$$\n",
    "\n",
    "with the conditions:\n",
    "\n",
    "$$x_0 ∈ [0,1], r ∈[0,4]$$\n",
    "\n",
    "Write a lambda $f = logistic(x, r)$, that's successively applied to itself $n$ times through a second function `logistic_n_times(x0, f, r, n)` with the inital point $X_0$\n",
    "\n",
    "Make a few runs of this for various values of `x0` and `r`. Answer the following:\n",
    "\n",
    "- Can you find a fixed point? \n",
    "- Yes (0.5, 2)\n",
    "\n",
    "- At what values of `r` are there fixed points? \n",
    "- 1 < r < 3\n",
    "\n",
    "- Are there any ranges of input for which the function is an attractor?\n",
    "-  Yes, see ex. 5"
   ]
  },
  {
   "cell_type": "code",
   "execution_count": 7,
   "metadata": {},
   "outputs": [
    {
     "data": {
      "image/png": "[encoded data removed]",
      "text/plain": [
       "<Figure size 432x288 with 1 Axes>"
      ]
     },
     "metadata": {
      "needs_background": "light"
     },
     "output_type": "display_data"
    }
   ],
   "source": [
    "import numpy as np\n",
    "import matplotlib.pyplot as plt\n",
    "\n",
    "logistics = lambda x, r : r * x * (1-x) \n",
    "\n",
    "def logistic_n_times(x0, r, n):\n",
    "    x = x0\n",
    "    outlist = []\n",
    "    \n",
    "    for i in range(n):\n",
    "        outlist.append(x)\n",
    "        x = logistics(x, r)\n",
    "        \n",
    "    return outlist\n",
    "\n",
    "graph = plt.plot(logistic_n_times(0.5, 2.9, 100))"
   ]
  },
  {
   "cell_type": "markdown",
   "metadata": {},
   "source": [
    "# Exercise 5 (stretch): Famous Chaos Theory Plot \n",
    "\n",
    "There is a famous plot in chaos theory of the logistic map that relates values of the attractors in $x_t$ for values of $r$, detailing where the function tends to \"end up\" for each value of $r$.\n",
    "\n",
    "<img src=\"logistic map.png\" style=\"width: 400px;\">\n",
    "\n",
    "Reproduce this plot using the `matplotlib` package.\n",
    "\n",
    "**Hint:** Produce samples from the function to fill arrays on the x and y axis!\n",
    "\n",
    "**Hint:** Take the final 50 values in a series of data points produced by the function!"
   ]
  },
  {
   "cell_type": "code",
   "execution_count": 8,
   "metadata": {},
   "outputs": [
    {
     "data": {
      "text/plain": [
       "<matplotlib.collections.PathCollection at 0x141d091fc70>"
      ]
     },
     "execution_count": 8,
     "metadata": {},
     "output_type": "execute_result"
    },
    {
     "data": {
      "image/png": "[encoded data removed]",
      "text/plain": [
       "<Figure size 432x288 with 1 Axes>"
      ]
     },
     "metadata": {
      "needs_background": "light"
     },
     "output_type": "display_data"
    }
   ],
   "source": [
    "import numpy as np\n",
    "import matplotlib.pyplot as plt\n",
    "\n",
    "lenlist = 200 # arbitrary constant used to equalize xdata/ydata\n",
    "logistics = lambda x, r : r * x * (1-x) \n",
    "rvals = np.arange(3.5, 4.00, 0.000125).tolist()\n",
    "# create a list of r values between (0, 4) in steps of a given increment\n",
    "# note: currently set to show a detailed map of r = 3.5 to 4\n",
    "\n",
    "def logmap_n(x0, r, n):\n",
    "    x = x0\n",
    "    outlist = []\n",
    "    \n",
    "    for i in range(n):\n",
    "        outlist.append(x)\n",
    "        x = logistics(x, r)\n",
    "        \n",
    "    return outlist\n",
    "\n",
    "xvals = rvals\n",
    "yvals = [ logmap_n(0.5, i, 300) for i in xvals ]\n",
    "\n",
    "ydata = [ y[-lenlist:] for y in yvals ]\n",
    "xdata = [ [x] * lenlist for x in xvals ] \n",
    "\n",
    "plt.scatter(xdata, ydata, alpha=0.01, cmap='viridis', s=.5, marker='.')"
   ]
  },
  {
   "cell_type": "code",
   "execution_count": null,
   "metadata": {},
   "outputs": [],
   "source": []
  }
 ],
 "metadata": {
  "colab": {
   "authorship_tag": "ABX9TyO6ouX4mUPsrtNoh84NFVy3",
   "collapsed_sections": [],
   "name": "Workshop Functions.ipynb",
   "provenance": []
  },
  "kernelspec": {
   "display_name": "Python 3",
   "language": "python",
   "name": "python3"
  },
  "language_info": {
   "codemirror_mode": {
    "name": "ipython",
    "version": 3
   },
   "file_extension": ".py",
   "mimetype": "text/x-python",
   "name": "python",
   "nbconvert_exporter": "python",
   "pygments_lexer": "ipython3",
   "version": "3.8.3"
  }
 },
 "nbformat": 4,
 "nbformat_minor": 4
}
